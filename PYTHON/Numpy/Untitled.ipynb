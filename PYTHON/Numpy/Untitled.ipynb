{
 "cells": [
  {
   "cell_type": "markdown",
   "id": "bfe63948",
   "metadata": {},
   "source": [
    "**Numpy Tutorial**"
   ]
  },
  {
   "cell_type": "code",
   "execution_count": 1,
   "id": "077c12b5",
   "metadata": {},
   "outputs": [],
   "source": [
    "import numpy as np"
   ]
  },
  {
   "cell_type": "markdown",
   "id": "60f6de64",
   "metadata": {},
   "source": [
    "\"\"\"set size in bits of each int\"\"\""
   ]
  },
  {
   "cell_type": "code",
   "execution_count": 17,
   "id": "99e58d42",
   "metadata": {},
   "outputs": [],
   "source": [
    "myarr = np.array([[4,5,415,53,65], [4,6,4,4,2]], np.int64 ) "
   ]
  },
  {
   "cell_type": "code",
   "execution_count": 14,
   "id": "fe56b4c0",
   "metadata": {},
   "outputs": [
    {
     "data": {
      "text/plain": [
       "4"
      ]
     },
     "execution_count": 14,
     "metadata": {},
     "output_type": "execute_result"
    }
   ],
   "source": [
    "myarr[1,2]"
   ]
  },
  {
   "cell_type": "code",
   "execution_count": 18,
   "id": "5c4de606",
   "metadata": {},
   "outputs": [],
   "source": [
    "myarr[1,2] = 54"
   ]
  },
  {
   "cell_type": "code",
   "execution_count": 19,
   "id": "34ce633c",
   "metadata": {},
   "outputs": [
    {
     "data": {
      "text/plain": [
       "54"
      ]
     },
     "execution_count": 19,
     "metadata": {},
     "output_type": "execute_result"
    }
   ],
   "source": [
    "myarr[1,2]"
   ]
  },
  {
   "cell_type": "code",
   "execution_count": null,
   "id": "10de85f2",
   "metadata": {},
   "outputs": [],
   "source": [
    "\"\"\"Array creation from\"\"\""
   ]
  }
 ],
 "metadata": {
  "kernelspec": {
   "display_name": "Python 3 (ipykernel)",
   "language": "python",
   "name": "python3"
  },
  "language_info": {
   "codemirror_mode": {
    "name": "ipython",
    "version": 3
   },
   "file_extension": ".py",
   "mimetype": "text/x-python",
   "name": "python",
   "nbconvert_exporter": "python",
   "pygments_lexer": "ipython3",
   "version": "3.9.7"
  }
 },
 "nbformat": 4,
 "nbformat_minor": 5
}
