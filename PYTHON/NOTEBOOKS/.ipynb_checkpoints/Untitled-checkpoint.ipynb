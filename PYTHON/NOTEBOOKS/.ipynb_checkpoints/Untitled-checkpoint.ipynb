{
 "cells": [
  {
   "cell_type": "code",
   "execution_count": 3,
   "id": "ac0d4d49",
   "metadata": {},
   "outputs": [],
   "source": [
    "from matplotlib import pyplot as plt"
   ]
  },
  {
   "cell_type": "code",
   "execution_count": 2,
   "id": "b9f4952e",
   "metadata": {},
   "outputs": [
    {
     "data": {
      "text/plain": [
       "'\\n# Bar graph\\n# Histograms\\n# scatter plot\\n# pie plot\\n# Hexagonal bin plot\\n# area plot\\n'"
      ]
     },
     "execution_count": 2,
     "metadata": {},
     "output_type": "execute_result"
    }
   ],
   "source": [
    "#types of plots\n",
    "\"\"\"\n",
    "# Bar graph\n",
    "# Histograms\n",
    "# scatter plot\n",
    "# pie plot\n",
    "# Hexagonal bin plot\n",
    "# area plot\n",
    "\"\"\""
   ]
  },
  {
   "cell_type": "code",
   "execution_count": 9,
   "id": "34a4cb29",
   "metadata": {},
   "outputs": [
    {
     "data": {
      "image/png": "[encoded data removed]",
      "text/plain": [
       "<Figure size 432x288 with 1 Axes>"
      ]
     },
     "metadata": {
      "needs_background": "light"
     },
     "output_type": "display_data"
    }
   ],
   "source": [
    "#plotting to our canvas\n",
    "\n",
    "plt.plot([41,64,75],[12,56,89]) #ordinates and abscissas\n",
    "\n",
    "#adding labels/legends to axis\n",
    "plt.title('info')\n",
    "plt.ylabel('yval')\n",
    "plt.xlabel('nums')\n",
    "\n",
    "# showing the plot\n",
    "plt.show()\n"
   ]
  },
  {
   "cell_type": "code",
   "execution_count": null,
   "id": "eb5740d4",
   "metadata": {},
   "outputs": [],
   "source": [
    "from matplotlib import style\n",
    "#plotting to our canvas\n",
    "\n",
    "plt.plot([41,64,75],[12,56,89]) #ordinates and abscissas\n",
    "\n",
    "#adding labels/legends to axis\n",
    "plt.title('info')\n",
    "plt.ylabel('yval')\n",
    "plt.xlabel('nums')\n",
    "\n",
    "# showing the plot\n",
    "plt.show()"
   ]
  }
 ],
 "metadata": {
  "kernelspec": {
   "display_name": "Python 3 (ipykernel)",
   "language": "python",
   "name": "python3"
  },
  "language_info": {
   "codemirror_mode": {
    "name": "ipython",
    "version": 3
   },
   "file_extension": ".py",
   "mimetype": "text/x-python",
   "name": "python",
   "nbconvert_exporter": "python",
   "pygments_lexer": "ipython3",
   "version": "3.9.7"
  }
 },
 "nbformat": 4,
 "nbformat_minor": 5
}
